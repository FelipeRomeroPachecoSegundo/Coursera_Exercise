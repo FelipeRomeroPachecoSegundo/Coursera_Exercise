{
  "metadata": {
    "kernelspec": {
      "name": "python",
      "display_name": "Python (Pyodide)",
      "language": "python"
    },
    "language_info": {
      "codemirror_mode": {
        "name": "python",
        "version": 3
      },
      "file_extension": ".py",
      "mimetype": "text/x-python",
      "name": "python",
      "nbconvert_exporter": "python",
      "pygments_lexer": "ipython3",
      "version": "3.8"
    }
  },
  "nbformat_minor": 4,
  "nbformat": 4,
  "cells": [
    {
      "cell_type": "markdown",
      "source": "# Data Science Tools and Ecosystemats.\n\n",
      "metadata": {}
    },
    {
      "cell_type": "markdown",
      "source": "*In this notebook, Data Science Tools and Ecosystem are summarized*",
      "metadata": {}
    },
    {
      "cell_type": "markdown",
      "source": "Some of the popular languages that Data Scientists use are:\n\n1. **Python**: Widely used for its simplicity and a vast ecosystem of libraries, such as NumPy, Pandas, and Scikit-learn.\n2. **R**: Especially popular in academia, R is known for its statistical analysis and visualization capabilities with packages like ggplot2.\n3. **SQL (Structured Query Language)**: Essential for working with relational databases, often used in data preprocessing and query",
      "metadata": {}
    },
    {
      "cell_type": "markdown",
      "source": "Some of the commonly used libraries used by Data Scientists include:\n\n1. **NumPy**: A powerful library for numerical computing in Python, providing support for large, multi-dimensional arrays and matrices, along with mathematical functions to operate on these elements.\n\n2. **Pandas**: A data manipulation library for Python, offering data structures like DataFrame for efficient data analysis, cleaning, and preparation.\n\n3. **Matplotlib**: A popular plotting library in Python, used for creating static, animated, and interactive visualizations in various formats.",
      "metadata": {}
    },
    {
      "cell_type": "markdown",
      "source": "| Data Science Tools       |\n|--------------------------|\n| Jupyter Notebooks        |\n| RStudio                  |\n| VSCode with Python plugin|",
      "metadata": {}
    },
    {
      "cell_type": "markdown",
      "source": "### Below are a few examples of evaluating arithmetic expressions in Python.\r\n",
      "metadata": {}
    },
    {
      "cell_type": "code",
      "source": "# This is a simple arithmetic expression to multiply then add integers.\nresult = (3 * 4) + 5\nresult\n",
      "metadata": {
        "trusted": true
      },
      "outputs": [
        {
          "execution_count": 1,
          "output_type": "execute_result",
          "data": {
            "text/plain": "17"
          },
          "metadata": {}
        }
      ],
      "execution_count": 1
    },
    {
      "cell_type": "code",
      "source": "# This will convert 200 minutes to hours by dividing by 60.\nminutes = 200\nhours = minutes / 60\nhours\n",
      "metadata": {
        "trusted": true
      },
      "outputs": [
        {
          "execution_count": 2,
          "output_type": "execute_result",
          "data": {
            "text/plain": "3.3333333333333335"
          },
          "metadata": {}
        }
      ],
      "execution_count": 2
    },
    {
      "cell_type": "markdown",
      "source": "**Objectives:**\r\n\r\n- List popular languages for Data Science.\r\n- Introduce commonly used libraries in Data Science.\r\n- Showcase three development environment open source tools used in Data Science.\r\n- Explore evaluating arithmetic expressions in Python.\r\n- Demonstrate converting minutes to hours in Python.\r\n",
      "metadata": {}
    },
    {
      "cell_type": "markdown",
      "source": "## Author\rFelipe Romero Pacheco Segundo\r\n",
      "metadata": {}
    },
    {
      "cell_type": "code",
      "source": "",
      "metadata": {
        "trusted": true
      },
      "outputs": [],
      "execution_count": null
    }
  ]
}